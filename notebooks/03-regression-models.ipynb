{
 "cells": [
  {
   "cell_type": "markdown",
   "metadata": {},
   "source": [
    "## Experiments :: Regression Models"
   ]
  },
  {
   "cell_type": "code",
   "execution_count": 1,
   "metadata": {},
   "outputs": [],
   "source": [
    "%load_ext autoreload\n",
    "%autoreload 2\n",
    "\n",
    "from datetime import date, timedelta\n",
    "from pathlib import Path\n",
    "\n",
    "import warnings\n",
    "warnings.filterwarnings(\"ignore\")\n",
    "\n",
    "from lightgbm import LGBMRegressor\n",
    "from sklearn.linear_model import LinearRegression\n",
    "import pandas as pd\n",
    "from prophet.make_holidays import make_holidays_df"
   ]
  },
  {
   "cell_type": "markdown",
   "metadata": {},
   "source": [
    "## Constants"
   ]
  },
  {
   "cell_type": "code",
   "execution_count": 2,
   "metadata": {},
   "outputs": [],
   "source": [
    "PROJECT_ROOT = Path(\"__file__\").resolve().parents[1]\n",
    "\n",
    "DATA_DPATH = PROJECT_ROOT / \"data\"\n",
    "assert DATA_DPATH.exists()\n",
    "\n",
    "HORIZON = 30\n",
    "SPLIT_DATE = date(2020, 2, 29)"
   ]
  },
  {
   "cell_type": "markdown",
   "metadata": {},
   "source": [
    "## Data Loading "
   ]
  },
  {
   "cell_type": "code",
   "execution_count": null,
   "metadata": {},
   "outputs": [],
   "source": [
    "train_fpath = DATA_DPATH / \"datasets\" / \"train.csv\"\n",
    "train_df = pd.read_csv(train_fpath, index_col=0)\n",
    "train_df[\"timestamp\"] = pd.to_datetime(train_df[\"timestamp\"])\n",
    "\n",
    "test_fpath = DATA_DPATH / \"datasets\" / \"test.csv\"\n",
    "test_df = pd.read_csv(test_fpath, index_col=0)\n",
    "test_df[\"timestamp\"] = pd.to_datetime(test_df[\"timestamp\"])\n",
    "\n",
    "train_df.shape, test_df.shape"
   ]
  },
  {
   "cell_type": "markdown",
   "metadata": {},
   "source": [
    "## Feature Preparation "
   ]
  },
  {
   "cell_type": "code",
   "execution_count": null,
   "metadata": {},
   "outputs": [],
   "source": [
    "df = pd.concat((train_df, test_df)).set_index(\"timestamp\")\n",
    "\n",
    "df.head()"
   ]
  },
  {
   "cell_type": "markdown",
   "metadata": {},
   "source": [
    "### Day-Time Features"
   ]
  },
  {
   "cell_type": "code",
   "execution_count": null,
   "metadata": {},
   "outputs": [],
   "source": [
    "df[\"dayofmonth\"] = df.index.hour.tolist()\n",
    "df[\"dayofweek\"] = df.index.dayofweek.tolist()\n",
    "df[\"quarter\"] = df.index.quarter.tolist()\n",
    "df[\"month\"] = df.index.month.tolist()\n",
    "df[\"dayofyear\"] = df.index.dayofyear.tolist()\n",
    "df[\"weekofyear\"] = df.index.isocalendar().week.tolist()\n",
    "\n",
    "df[\"is_weekend\"] = 0\n",
    "df.loc[df[\"dayofweek\"].isin([5, 6]), \"is_weekend\"] = 1\n",
    "\n",
    "df.head()"
   ]
  },
  {
   "cell_type": "markdown",
   "metadata": {},
   "source": [
    "## Holiday Feature"
   ]
  },
  {
   "cell_type": "code",
   "execution_count": null,
   "metadata": {},
   "outputs": [],
   "source": [
    "holidays_df = make_holidays_df(year_list=[2018, 2019, 2020], country=\"RU\")\n",
    "\n",
    "holidays_df[\"is_holiday\"] = 1\n",
    "holidays_df = holidays_df.rename(columns={\"ds\": \"timestamp\"})\n",
    "holidays_df = holidays_df.set_index(\"timestamp\")\n",
    "\n",
    "holidays_df.head()"
   ]
  },
  {
   "cell_type": "code",
   "execution_count": null,
   "metadata": {},
   "outputs": [],
   "source": [
    "df = df.merge(holidays_df[[\"is_holiday\"]], left_index=True, right_index=True, how=\"outer\")\n",
    "df[\"is_holiday\"] = df[\"is_holiday\"].fillna(0)\n",
    "df[\"holiday_prior_1\"] = df[\"is_holiday\"].shift(-1)\n",
    "df[\"holiday_prior_2\"] = df[\"is_holiday\"].shift(-2)\n",
    "df[\"holiday_lag_1\"] = df[\"is_holiday\"].shift(1)\n",
    "df[\"holiday_lag_2\"] = df[\"is_holiday\"].shift(2)\n",
    "df = df.dropna(subset=[\"target\"])\n",
    "\n",
    "df.head()"
   ]
  },
  {
   "cell_type": "markdown",
   "metadata": {},
   "source": [
    "## Lag Features"
   ]
  },
  {
   "cell_type": "code",
   "execution_count": null,
   "metadata": {},
   "outputs": [],
   "source": [
    "LAGS = [7, 10, 15]\n",
    "\n",
    "for lag in LAGS: \n",
    "    for lag_value in range(HORIZON, HORIZON + lag):\n",
    "        feature_name = f\"lag_{lag_value}\"\n",
    "        df[feature_name] = df[\"target\"].shift(lag)\n",
    "\n",
    "        df[f\"{feature_name}_rolling_mean_30\"] = df[feature_name].rolling(30).mean()\n",
    "        df[f\"{feature_name}_rolling_mean_7\"] = df[feature_name].rolling(7).mean()\n",
    "\n",
    "\n",
    "df = df.dropna()\n",
    "\n",
    "df.head()"
   ]
  },
  {
   "cell_type": "code",
   "execution_count": null,
   "metadata": {},
   "outputs": [],
   "source": [
    "train_df = df.loc[:SPLIT_DATE]\n",
    "test_df = df.loc[(SPLIT_DATE + timedelta(days=1)):]\n",
    "\n",
    "X_train = train_df.drop(columns=[\"target\"])\n",
    "y_train = train_df[[\"target\"]]\n",
    "\n",
    "X_test = test_df.drop(columns=[\"target\"])\n",
    "y_test = test_df[[\"target\"]]\n",
    "\n",
    "train_df.shape, test_df.shape"
   ]
  },
  {
   "cell_type": "markdown",
   "metadata": {},
   "source": [
    "## Model Training :: LinearRegression"
   ]
  },
  {
   "cell_type": "code",
   "execution_count": null,
   "metadata": {},
   "outputs": [],
   "source": [
    "model = LinearRegression()\n",
    "model.fit(X_train, y_train)"
   ]
  },
  {
   "cell_type": "markdown",
   "metadata": {},
   "source": [
    "## Predictions :: LinearRegression"
   ]
  },
  {
   "cell_type": "code",
   "execution_count": 11,
   "metadata": {},
   "outputs": [],
   "source": [
    "pred = model.predict(X_test)"
   ]
  },
  {
   "cell_type": "code",
   "execution_count": null,
   "metadata": {},
   "outputs": [],
   "source": [
    "pred_df = test_df[[\"target\"]].copy().rename(columns={\"target\": \"y_test\"})\n",
    "pred_df[\"y_pred\"] = pred \n",
    "pred_df.head()"
   ]
  },
  {
   "cell_type": "code",
   "execution_count": 13,
   "metadata": {},
   "outputs": [],
   "source": [
    "pred_dpath = DATA_DPATH / \"predictions\"\n",
    "pred_dpath.mkdir(parents=True, exist_ok=True)\n",
    "\n",
    "pred_df.to_csv(pred_dpath / \"linear_regression_predictions.csv\")"
   ]
  },
  {
   "cell_type": "markdown",
   "metadata": {},
   "source": [
    "## Model Training :: LGBM "
   ]
  },
  {
   "cell_type": "code",
   "execution_count": null,
   "metadata": {},
   "outputs": [],
   "source": [
    "model = LGBMRegressor(random_state=42)\n",
    "model.fit(X_train, y_train)"
   ]
  },
  {
   "cell_type": "markdown",
   "metadata": {},
   "source": [
    "## Predictions :: LGBM"
   ]
  },
  {
   "cell_type": "code",
   "execution_count": 15,
   "metadata": {},
   "outputs": [],
   "source": [
    "pred = model.predict(X_test)"
   ]
  },
  {
   "cell_type": "code",
   "execution_count": null,
   "metadata": {},
   "outputs": [],
   "source": [
    "pred_df = test_df[[\"target\"]].copy().rename(columns={\"target\": \"y_test\"})\n",
    "pred_df[\"y_pred\"] = pred \n",
    "pred_df.head()"
   ]
  },
  {
   "cell_type": "code",
   "execution_count": 17,
   "metadata": {},
   "outputs": [],
   "source": [
    "pred_dpath = DATA_DPATH / \"predictions\"\n",
    "pred_dpath.mkdir(parents=True, exist_ok=True)\n",
    "\n",
    "pred_df.to_csv(pred_dpath / \"lgbm_predictions.csv\")"
   ]
  },
  {
   "cell_type": "code",
   "execution_count": null,
   "metadata": {},
   "outputs": [],
   "source": []
  }
 ],
 "metadata": {
  "kernelspec": {
   "display_name": "venv310",
   "language": "python",
   "name": "python3"
  },
  "language_info": {
   "codemirror_mode": {
    "name": "ipython",
    "version": 3
   },
   "file_extension": ".py",
   "mimetype": "text/x-python",
   "name": "python",
   "nbconvert_exporter": "python",
   "pygments_lexer": "ipython3",
   "version": "3.10.12"
  }
 },
 "nbformat": 4,
 "nbformat_minor": 2
}
