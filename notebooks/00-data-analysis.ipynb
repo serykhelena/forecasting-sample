{
 "cells": [
  {
   "cell_type": "markdown",
   "metadata": {},
   "source": [
    "## Data Analysis"
   ]
  },
  {
   "cell_type": "code",
   "execution_count": 1,
   "metadata": {},
   "outputs": [],
   "source": [
    "%load_ext autoreload\n",
    "%autoreload 2\n",
    "\n",
    "from pathlib import Path\n",
    "\n",
    "import matplotlib.pyplot as plt \n",
    "plt.rcParams['figure.figsize'] = [10, 7]\n",
    "plt.style.use('seaborn-v0_8')\n",
    "\n",
    "import seaborn as sns\n",
    "sns.set(style=\"darkgrid\")\n",
    "\n",
    "import numpy as np \n",
    "import pandas as pd "
   ]
  },
  {
   "cell_type": "markdown",
   "metadata": {},
   "source": [
    "## Constants"
   ]
  },
  {
   "cell_type": "code",
   "execution_count": 2,
   "metadata": {},
   "outputs": [],
   "source": [
    "PROJECT_ROOT = Path(\"__file__\").resolve().parents[1]\n",
    "\n",
    "DATA_DPATH = PROJECT_ROOT / \"data\"\n",
    "assert DATA_DPATH.exists()"
   ]
  },
  {
   "cell_type": "markdown",
   "metadata": {},
   "source": [
    "## Data Loading "
   ]
  },
  {
   "cell_type": "code",
   "execution_count": null,
   "metadata": {},
   "outputs": [],
   "source": [
    "df_fpath = DATA_DPATH / \"source_data\" / \"product.csv\"\n",
    "df_raw = pd.read_csv(df_fpath, index_col=0)\n",
    "df_raw.shape"
   ]
  },
  {
   "cell_type": "code",
   "execution_count": null,
   "metadata": {},
   "outputs": [],
   "source": [
    "df_raw.head()"
   ]
  },
  {
   "cell_type": "code",
   "execution_count": null,
   "metadata": {},
   "outputs": [],
   "source": [
    "df = df_raw.copy() \n",
    "df[\"timestamp\"] = pd.to_datetime(df[\"timestamp\"])\n",
    "\n",
    "df.head()"
   ]
  },
  {
   "cell_type": "code",
   "execution_count": null,
   "metadata": {},
   "outputs": [],
   "source": [
    "df.info()"
   ]
  },
  {
   "cell_type": "markdown",
   "metadata": {},
   "source": [
    "## Duplicates"
   ]
  },
  {
   "cell_type": "code",
   "execution_count": null,
   "metadata": {},
   "outputs": [],
   "source": [
    "df[df.duplicated()]"
   ]
  },
  {
   "cell_type": "markdown",
   "metadata": {},
   "source": [
    "## Missing Values"
   ]
  },
  {
   "cell_type": "code",
   "execution_count": null,
   "metadata": {},
   "outputs": [],
   "source": [
    "df.isna().sum()"
   ]
  },
  {
   "cell_type": "code",
   "execution_count": null,
   "metadata": {},
   "outputs": [],
   "source": [
    "df.isna().sum() / len(df)"
   ]
  },
  {
   "cell_type": "code",
   "execution_count": null,
   "metadata": {},
   "outputs": [],
   "source": [
    "df = df.dropna()\n",
    "df.shape"
   ]
  },
  {
   "cell_type": "markdown",
   "metadata": {},
   "source": [
    "## Date Limits"
   ]
  },
  {
   "cell_type": "code",
   "execution_count": null,
   "metadata": {},
   "outputs": [],
   "source": [
    "df[\"timestamp\"].describe()"
   ]
  },
  {
   "cell_type": "markdown",
   "metadata": {},
   "source": [
    "## Target"
   ]
  },
  {
   "cell_type": "code",
   "execution_count": null,
   "metadata": {},
   "outputs": [],
   "source": [
    "df[\"quantity\"].describe()"
   ]
  },
  {
   "cell_type": "code",
   "execution_count": null,
   "metadata": {},
   "outputs": [],
   "source": [
    "np.percentile(df[\"quantity\"], 95), np.percentile(df[\"quantity\"], 99)"
   ]
  },
  {
   "cell_type": "code",
   "execution_count": null,
   "metadata": {},
   "outputs": [],
   "source": [
    "fig, axs = plt.subplots(nrows=1, ncols=2, figsize=(10, 4))\n",
    "\n",
    "sns.histplot(\n",
    "    df, \n",
    "    x=\"quantity\",\n",
    "    kde=True, \n",
    "    bins=30, \n",
    "    log_scale=False,\n",
    "    ax=axs[0]\n",
    ")\n",
    "axs[0].set_xlabel(\"Объём продаж\")\n",
    "axs[0].set_ylabel(\"Количество записей\")\n",
    "axs[0].set_title(\"Гистограмма распределения объёма продаж\")\n",
    "\n",
    "sns.boxplot(df[\"quantity\"], ax=axs[1])\n",
    "axs[1].set_ylabel(\"Количество записей\")\n",
    "axs[1].set_title(\"Boxplot объёма продаж\")\n",
    "\n",
    "plt.tight_layout()\n",
    "plt.show()"
   ]
  },
  {
   "cell_type": "markdown",
   "metadata": {},
   "source": [
    "## Viz - Raw Timestamps"
   ]
  },
  {
   "cell_type": "code",
   "execution_count": null,
   "metadata": {},
   "outputs": [],
   "source": [
    "plot_data = df.copy()\n",
    "plot_data = plot_data.sort_values(\"timestamp\")\n",
    "plot_data = plot_data[plot_data[\"timestamp\"] > \"2020-03-15\"]\n",
    "\n",
    "plt.figure(figsize=(15, 6))\n",
    "plt.plot(\"timestamp\", \"quantity\", \".-\", data=plot_data)\n",
    "plt.show()"
   ]
  },
  {
   "cell_type": "markdown",
   "metadata": {},
   "source": [
    "## Viz - Resampled by Day"
   ]
  },
  {
   "cell_type": "code",
   "execution_count": null,
   "metadata": {},
   "outputs": [],
   "source": [
    "resampled_df = df.resample(\"1D\", on=\"timestamp\").sum().reset_index()\n",
    "\n",
    "# NOTE: just for study purposes, make target variable more realistic \n",
    "resampled_df[\"quantity\"] /= 1000\n",
    "resampled_df[\"quantity\"] = resampled_df[\"quantity\"].round()\n",
    "\n",
    "resampled_df[\"timestamp\"] = resampled_df[\"timestamp\"].dt.strftime(\"%Y-%m-%d\")\n",
    "resampled_df.shape"
   ]
  },
  {
   "cell_type": "code",
   "execution_count": null,
   "metadata": {},
   "outputs": [],
   "source": [
    "resampled_df.head()"
   ]
  },
  {
   "cell_type": "code",
   "execution_count": null,
   "metadata": {},
   "outputs": [],
   "source": [
    "plot_data = resampled_df.copy()\n",
    "plot_data = plot_data.sort_values(\"timestamp\")\n",
    "\n",
    "plot_data = plot_data[plot_data[\"timestamp\"] > \"2020-03-15\"]\n",
    "\n",
    "plt.figure(figsize=(15, 6))\n",
    "plt.plot(\"timestamp\", \"quantity\", \".-\", data=plot_data)\n",
    "plt.xticks(rotation=90)\n",
    "\n",
    "plt.show()"
   ]
  },
  {
   "cell_type": "code",
   "execution_count": 19,
   "metadata": {},
   "outputs": [],
   "source": [
    "output_dpath = DATA_DPATH / \"preprocessed_data\"\n",
    "output_dpath.mkdir(parents=True, exist_ok=True)\n",
    "\n",
    "resampled_df.to_csv(output_dpath / \"resampled_product.csv\")"
   ]
  },
  {
   "cell_type": "code",
   "execution_count": null,
   "metadata": {},
   "outputs": [],
   "source": []
  }
 ],
 "metadata": {
  "kernelspec": {
   "display_name": "venv310",
   "language": "python",
   "name": "python3"
  },
  "language_info": {
   "codemirror_mode": {
    "name": "ipython",
    "version": 3
   },
   "file_extension": ".py",
   "mimetype": "text/x-python",
   "name": "python",
   "nbconvert_exporter": "python",
   "pygments_lexer": "ipython3",
   "version": "3.10.12"
  }
 },
 "nbformat": 4,
 "nbformat_minor": 2
}
