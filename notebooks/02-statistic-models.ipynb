{
 "cells": [
  {
   "cell_type": "markdown",
   "metadata": {},
   "source": [
    "## Experiments :: Statistic Models"
   ]
  },
  {
   "cell_type": "code",
   "execution_count": 1,
   "metadata": {},
   "outputs": [],
   "source": [
    "%load_ext autoreload\n",
    "%autoreload 2\n",
    "\n",
    "from pathlib import Path\n",
    "\n",
    "import warnings\n",
    "warnings.filterwarnings(\"ignore\")\n",
    "\n",
    "from etna.datasets.tsdataset import TSDataset\n",
    "from etna.models import HoltWintersModel\n",
    "from etna.pipeline import Pipeline\n",
    "import pandas as pd "
   ]
  },
  {
   "cell_type": "markdown",
   "metadata": {},
   "source": [
    "## Constants"
   ]
  },
  {
   "cell_type": "code",
   "execution_count": 2,
   "metadata": {},
   "outputs": [],
   "source": [
    "PROJECT_ROOT = Path(\"__file__\").resolve().parents[1]\n",
    "\n",
    "DATA_DPATH = PROJECT_ROOT / \"data\"\n",
    "assert DATA_DPATH.exists()\n",
    "\n",
    "HORIZON = 30"
   ]
  },
  {
   "cell_type": "markdown",
   "metadata": {},
   "source": [
    "## Data Loading"
   ]
  },
  {
   "cell_type": "code",
   "execution_count": null,
   "metadata": {},
   "outputs": [],
   "source": [
    "train_fpath = DATA_DPATH / \"datasets\" / \"train.csv\"\n",
    "train_df = pd.read_csv(train_fpath, index_col=0)\n",
    "train_df[\"timestamp\"] = pd.to_datetime(train_df[\"timestamp\"])\n",
    "\n",
    "test_fpath = DATA_DPATH / \"datasets\" / \"test.csv\"\n",
    "test_df = pd.read_csv(test_fpath, index_col=0)\n",
    "test_df[\"timestamp\"] = pd.to_datetime(test_df[\"timestamp\"])\n",
    "\n",
    "train_df.shape, test_df.shape"
   ]
  },
  {
   "cell_type": "markdown",
   "metadata": {},
   "source": [
    "## TS Dataset Preparation"
   ]
  },
  {
   "cell_type": "code",
   "execution_count": 4,
   "metadata": {},
   "outputs": [],
   "source": [
    "train_ts_df = train_df.copy()\n",
    "\n",
    "# Segment Mock - only 1 segment\n",
    "train_ts_df[\"segment\"] = 10\n",
    "train_ts_df = TSDataset(train_ts_df, freq=\"D\")\n",
    "\n",
    "test_ts_df = test_df.copy()\n",
    "# Segment Mock - only 1 segment\n",
    "test_ts_df[\"segment\"] = 10\n",
    "test_ts_df = TSDataset(test_ts_df, freq=\"D\")"
   ]
  },
  {
   "cell_type": "markdown",
   "metadata": {},
   "source": [
    "## Model Training"
   ]
  },
  {
   "cell_type": "code",
   "execution_count": null,
   "metadata": {},
   "outputs": [],
   "source": [
    "model = HoltWintersModel(\n",
    "    trend=\"add\", \n",
    "    seasonal=\"add\", \n",
    "    seasonal_periods=7,\n",
    ")\n",
    "pipeline = Pipeline(model=model, horizon=HORIZON)\n",
    "\n",
    "pipeline.fit(train_ts_df)\n",
    "ts_forecast_df = pipeline.forecast()"
   ]
  },
  {
   "cell_type": "markdown",
   "metadata": {},
   "source": [
    "## Predictions"
   ]
  },
  {
   "cell_type": "code",
   "execution_count": null,
   "metadata": {},
   "outputs": [],
   "source": [
    "test_df = test_ts_df.to_pandas(flatten=True).rename(columns={\"target\": \"y_test\"})\n",
    "forecast_df = ts_forecast_df.to_pandas(flatten=True).rename(columns={\"target\": \"y_pred\"})\n",
    "\n",
    "preds_df = test_df.merge(forecast_df, on=[\"timestamp\", \"segment\"], how=\"outer\")\n",
    "preds_df = preds_df.drop(columns=[\"segment\"])\n",
    "\n",
    "preds_df.head()"
   ]
  },
  {
   "cell_type": "code",
   "execution_count": 7,
   "metadata": {},
   "outputs": [],
   "source": [
    "pred_dpath = DATA_DPATH / \"predictions\"\n",
    "pred_dpath.mkdir(parents=True, exist_ok=True)\n",
    "\n",
    "preds_df.to_csv(pred_dpath / \"holt_winters_predictions.csv\")"
   ]
  },
  {
   "cell_type": "code",
   "execution_count": null,
   "metadata": {},
   "outputs": [],
   "source": []
  }
 ],
 "metadata": {
  "kernelspec": {
   "display_name": "venv310",
   "language": "python",
   "name": "python3"
  },
  "language_info": {
   "codemirror_mode": {
    "name": "ipython",
    "version": 3
   },
   "file_extension": ".py",
   "mimetype": "text/x-python",
   "name": "python",
   "nbconvert_exporter": "python",
   "pygments_lexer": "ipython3",
   "version": "3.10.12"
  }
 },
 "nbformat": 4,
 "nbformat_minor": 2
}
