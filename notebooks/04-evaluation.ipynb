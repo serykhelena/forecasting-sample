{
 "cells": [
  {
   "cell_type": "markdown",
   "metadata": {},
   "source": [
    "# Evaluation"
   ]
  },
  {
   "cell_type": "code",
   "execution_count": 1,
   "metadata": {},
   "outputs": [],
   "source": [
    "%load_ext autoreload\n",
    "%autoreload 2\n",
    "\n",
    "from pathlib import Path\n",
    "\n",
    "import warnings\n",
    "warnings.filterwarnings(\"ignore\")\n",
    "\n",
    "import matplotlib.pyplot as plt \n",
    "plt.rcParams['figure.figsize'] = [10, 7]\n",
    "plt.style.use('seaborn-v0_8')\n",
    "\n",
    "import seaborn as sns\n",
    "sns.set(style=\"darkgrid\")\n",
    "\n",
    "import numpy as np \n",
    "import pandas as pd "
   ]
  },
  {
   "cell_type": "markdown",
   "metadata": {},
   "source": [
    "## Constants"
   ]
  },
  {
   "cell_type": "code",
   "execution_count": 2,
   "metadata": {},
   "outputs": [],
   "source": [
    "PROJECT_ROOT = Path(\"__file__\").resolve().parents[1]\n",
    "\n",
    "DATA_DPATH = PROJECT_ROOT / \"data\"\n",
    "assert DATA_DPATH.exists()\n",
    "\n",
    "PREDICTION_DPATH = DATA_DPATH / \"predictions\"\n",
    "assert PREDICTION_DPATH.exists()"
   ]
  },
  {
   "cell_type": "markdown",
   "metadata": {},
   "source": [
    "## Data Loading "
   ]
  },
  {
   "cell_type": "code",
   "execution_count": null,
   "metadata": {},
   "outputs": [],
   "source": [
    "train_fpath = DATA_DPATH / \"datasets\" / \"train.csv\"\n",
    "\n",
    "train_df = pd.read_csv(train_fpath).set_index(\"timestamp\")\n",
    "train_df.shape"
   ]
  },
  {
   "cell_type": "markdown",
   "metadata": {},
   "source": [
    "## Prediction Loading "
   ]
  },
  {
   "cell_type": "code",
   "execution_count": null,
   "metadata": {},
   "outputs": [],
   "source": [
    "holt_winters_fpath = PREDICTION_DPATH / \"holt_winters_predictions.csv\"\n",
    "holt_winters_pred_df = pd.read_csv(holt_winters_fpath, index_col=0).set_index(\"timestamp\")\n",
    "print(f\"Holt Winters Data Shape: {holt_winters_pred_df.shape}\")\n",
    "\n",
    "linear_reg_fpath = PREDICTION_DPATH / \"linear_regression_predictions.csv\"\n",
    "linear_reg_pred_df = pd.read_csv(linear_reg_fpath).set_index(\"timestamp\")\n",
    "print(f\"Linear Regression Data Shape: {linear_reg_pred_df.shape}\")\n",
    "\n",
    "lgbm_fpath = PREDICTION_DPATH / \"lgbm_predictions.csv\"\n",
    "lgbm_pred_df = pd.read_csv(lgbm_fpath).set_index(\"timestamp\")\n",
    "print(f\"LGBM Data Shape: {lgbm_pred_df.shape}\")"
   ]
  },
  {
   "cell_type": "markdown",
   "metadata": {},
   "source": [
    "## Metric Functions"
   ]
  },
  {
   "cell_type": "code",
   "execution_count": 5,
   "metadata": {},
   "outputs": [],
   "source": [
    "def calculate_error(preds_df):\n",
    "    # MAE, MSE, RMSE\n",
    "    preds_df[\"error\"] = preds_df[\"y_pred\"] - preds_df[\"y_test\"]\n",
    "    preds_df[\"abs_error\"] = np.abs(preds_df[\"error\"])\n",
    "    preds_df[\"sq_error\"] = np.power(preds_df[\"error\"], 2)\n",
    "\n",
    "    preds_df[\"abs_error_weighted\"] = np.where(preds_df[\"error\"] < 0, 2 * np.abs(preds_df[\"error\"]), np.abs(preds_df[\"error\"]))\n",
    "    preds_df[\"sq_error_weighted\"] = np.where(preds_df[\"error\"] < 0, np.power(2 * preds_df[\"error\"], 2), np.power(preds_df[\"error\"], 2))\n",
    "\n",
    "    # MPE, MAPE\n",
    "    preds_df[\"y_test_pe\"] = preds_df[\"y_test\"]\n",
    "    preds_df.loc[preds_df[\"y_test_pe\"] == 0, \"y_test_pe\"] = np.nan\n",
    "    preds_df[\"perc_error\"] = (preds_df[\"y_test_pe\"] - preds_df[\"y_pred\"]) / preds_df[\"y_test_pe\"] * 100\n",
    "    preds_df[\"abs_perc_error\"] = preds_df[\"perc_error\"].abs()\n",
    "\n",
    "\n",
    "    preds_df[\"sym_abs_perc_error\"] = (\n",
    "        (preds_df[\"y_test_pe\"] - preds_df[\"y_pred\"]).abs() \n",
    "        / ((preds_df[\"y_test_pe\"].abs() + preds_df[\"y_pred\"].abs()) / 2)\n",
    "    ) * 100\n",
    "\n",
    "    preds_df = preds_df.drop(columns=[\"y_test_pe\"])\n",
    "\n",
    "    return preds_df\n",
    "\n",
    "\n",
    "def calculate_metrics(preds_df):\n",
    "    metrics_df = (\n",
    "        preds_df\n",
    "        .agg(\n",
    "            {\n",
    "                \"abs_error\": \"mean\", \n",
    "                \"sq_error\": \"mean\",\n",
    "                \"abs_error_weighted\": \"mean\", \n",
    "                \"sq_error_weighted\": \"mean\",\n",
    "                \"perc_error\": \"mean\", \n",
    "                \"abs_perc_error\": \"mean\",\n",
    "                \"sym_abs_perc_error\": \"mean\",\n",
    "            }\n",
    "        )\n",
    "        .reset_index()\n",
    "    )\n",
    "    metrics_df = pd.pivot_table(metrics_df, columns=\"index\")\n",
    "    metrics_df = metrics_df.rename(\n",
    "        columns={\n",
    "            \"abs_error\": \"MAE\",\n",
    "            \"sq_error\": \"MSE\",\n",
    "            \"abs_error_weighted\": \"wMAE\", \n",
    "            \"sq_error_weighted\": \"wMSE\",\n",
    "            \"perc_error\": \"MPE\",\n",
    "            \"abs_perc_error\": \"MAPE\",\n",
    "            \"sym_abs_perc_error\": \"SMAPE\",\n",
    "        }\n",
    "    )\n",
    "    metrics_df.columns.name = \"\"\n",
    "\n",
    "    metrics_df[\"RMSE\"] = np.sqrt(metrics_df[\"MSE\"])\n",
    "    metrics_df[\"wRMSE\"] = np.sqrt(metrics_df[\"wMSE\"])\n",
    "\n",
    "    return metrics_df"
   ]
  },
  {
   "cell_type": "markdown",
   "metadata": {},
   "source": [
    "## Metrics"
   ]
  },
  {
   "cell_type": "code",
   "execution_count": null,
   "metadata": {},
   "outputs": [],
   "source": [
    "holt_winters_errors = calculate_error(holt_winters_pred_df)\n",
    "holt_winter_metrics = calculate_metrics(holt_winters_errors)\n",
    "holt_winter_metrics[\"model\"] = \"holt_winters\"\n",
    "\n",
    "linear_reg_errors = calculate_error(linear_reg_pred_df)\n",
    "linear_reg_metrics = calculate_metrics(linear_reg_errors)\n",
    "linear_reg_metrics[\"model\"] = \"linear_reg\"\n",
    "\n",
    "lgbm_errors = calculate_error(lgbm_pred_df)\n",
    "lgbm_metrics = calculate_metrics(lgbm_errors)\n",
    "lgbm_metrics[\"model\"] = \"lgbm\"\n",
    "\n",
    "metrics_df = pd.concat((holt_winter_metrics, linear_reg_metrics, lgbm_metrics))\n",
    "\n",
    "metrics_df.sort_values(\"MAE\")"
   ]
  },
  {
   "cell_type": "markdown",
   "metadata": {},
   "source": [
    "## Demo"
   ]
  },
  {
   "cell_type": "code",
   "execution_count": null,
   "metadata": {},
   "outputs": [],
   "source": [
    "plt.figure(figsize=(20, 5))\n",
    "\n",
    "ts_data = holt_winters_pred_df.index.values\n",
    "\n",
    "train_plot_data = train_df.loc[\"2020-01-15\":]\n",
    "plt.plot(train_plot_data.index, train_plot_data[\"target\"], label=\"train\")\n",
    "\n",
    "plt.plot(ts_data, holt_winters_pred_df[\"y_test\"], \".-\", color=\"red\", label=\"true\", markersize=10)\n",
    "plt.plot(ts_data, holt_winters_pred_df[\"y_pred\"], \".-\", color=\"blue\", label=\"holt_winter\", markersize=10)\n",
    "plt.plot(ts_data, linear_reg_pred_df[\"y_pred\"], \".-\", color=\"green\", label=\"linear_reg\", markersize=10)\n",
    "plt.plot(ts_data, lgbm_pred_df[\"y_pred\"], \".-\", color=\"orange\", label=\"lgbm\", markersize=10)\n",
    "\n",
    "plt.legend()\n",
    "plt.xticks(rotation=90)\n",
    "\n",
    "plt.show()"
   ]
  },
  {
   "cell_type": "code",
   "execution_count": null,
   "metadata": {},
   "outputs": [],
   "source": []
  }
 ],
 "metadata": {
  "kernelspec": {
   "display_name": "venv310",
   "language": "python",
   "name": "python3"
  },
  "language_info": {
   "codemirror_mode": {
    "name": "ipython",
    "version": 3
   },
   "file_extension": ".py",
   "mimetype": "text/x-python",
   "name": "python",
   "nbconvert_exporter": "python",
   "pygments_lexer": "ipython3",
   "version": "3.10.12"
  }
 },
 "nbformat": 4,
 "nbformat_minor": 2
}
